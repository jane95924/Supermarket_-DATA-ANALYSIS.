{
  "nbformat": 4,
  "nbformat_minor": 0,
  "metadata": {
    "colab": {
      "name": "PART_4",
      "provenance": [],
      "collapsed_sections": [],
      "toc_visible": true,
      "authorship_tag": "ABX9TyM2E5hBxLZYaRgHngmMlP1+",
      "include_colab_link": true
    },
    "kernelspec": {
      "name": "ir",
      "display_name": "R"
    }
  },
  "cells": [
    {
      "cell_type": "markdown",
      "metadata": {
        "id": "view-in-github",
        "colab_type": "text"
      },
      "source": [
        "<a href=\"https://colab.research.google.com/github/jane95924/WEEK_14_IP/blob/master/PART_4.ipynb\" target=\"_parent\"><img src=\"https://colab.research.google.com/assets/colab-badge.svg\" alt=\"Open In Colab\"/></a>"
      ]
    },
    {
      "cell_type": "markdown",
      "metadata": {
        "id": "rEj8aRn-WEpp",
        "colab_type": "text"
      },
      "source": [
        "##ANOMALY DETECTION"
      ]
    },
    {
      "cell_type": "code",
      "metadata": {
        "id": "aX8F-8Ncc2nV",
        "colab_type": "code",
        "colab": {
          "base_uri": "https://localhost:8080/",
          "height": 204
        },
        "outputId": "524f8af1-a00e-408b-97c7-d143b9d7cf3f"
      },
      "source": [
        "#loading our dataset\n",
        "data<-read.csv('http://bit.ly/CarreFourSalesDataset')\n",
        "#previewing the head\n",
        "head(data)"
      ],
      "execution_count": 1,
      "outputs": [
        {
          "output_type": "display_data",
          "data": {
            "text/plain": [
              "  Date      Sales   \n",
              "1 1/5/2019  548.9715\n",
              "2 3/8/2019   80.2200\n",
              "3 3/3/2019  340.5255\n",
              "4 1/27/2019 489.0480\n",
              "5 2/8/2019  634.3785\n",
              "6 3/25/2019 627.6165"
            ],
            "text/latex": "A data.frame: 6 × 2\n\\begin{tabular}{r|ll}\n  & Date & Sales\\\\\n  & <fct> & <dbl>\\\\\n\\hline\n\t1 & 1/5/2019  & 548.9715\\\\\n\t2 & 3/8/2019  &  80.2200\\\\\n\t3 & 3/3/2019  & 340.5255\\\\\n\t4 & 1/27/2019 & 489.0480\\\\\n\t5 & 2/8/2019  & 634.3785\\\\\n\t6 & 3/25/2019 & 627.6165\\\\\n\\end{tabular}\n",
            "text/markdown": "\nA data.frame: 6 × 2\n\n| <!--/--> | Date &lt;fct&gt; | Sales &lt;dbl&gt; |\n|---|---|---|\n| 1 | 1/5/2019  | 548.9715 |\n| 2 | 3/8/2019  |  80.2200 |\n| 3 | 3/3/2019  | 340.5255 |\n| 4 | 1/27/2019 | 489.0480 |\n| 5 | 2/8/2019  | 634.3785 |\n| 6 | 3/25/2019 | 627.6165 |\n\n",
            "text/html": [
              "<table>\n",
              "<caption>A data.frame: 6 × 2</caption>\n",
              "<thead>\n",
              "\t<tr><th></th><th scope=col>Date</th><th scope=col>Sales</th></tr>\n",
              "\t<tr><th></th><th scope=col>&lt;fct&gt;</th><th scope=col>&lt;dbl&gt;</th></tr>\n",
              "</thead>\n",
              "<tbody>\n",
              "\t<tr><th scope=row>1</th><td>1/5/2019 </td><td>548.9715</td></tr>\n",
              "\t<tr><th scope=row>2</th><td>3/8/2019 </td><td> 80.2200</td></tr>\n",
              "\t<tr><th scope=row>3</th><td>3/3/2019 </td><td>340.5255</td></tr>\n",
              "\t<tr><th scope=row>4</th><td>1/27/2019</td><td>489.0480</td></tr>\n",
              "\t<tr><th scope=row>5</th><td>2/8/2019 </td><td>634.3785</td></tr>\n",
              "\t<tr><th scope=row>6</th><td>3/25/2019</td><td>627.6165</td></tr>\n",
              "</tbody>\n",
              "</table>\n"
            ]
          },
          "metadata": {
            "tags": []
          }
        }
      ]
    },
    {
      "cell_type": "code",
      "metadata": {
        "id": "27XL8X_6VyEh",
        "colab_type": "code",
        "colab": {
          "base_uri": "https://localhost:8080/",
          "height": 204
        },
        "outputId": "22b31eca-ce00-4a4d-baf4-0a6ee601f335"
      },
      "source": [
        "#previewing the tail\n",
        "tail(data)"
      ],
      "execution_count": null,
      "outputs": [
        {
          "output_type": "display_data",
          "data": {
            "text/plain": [
              "     Date      Sales    \n",
              "995  2/18/2019   63.9975\n",
              "996  1/29/2019   42.3675\n",
              "997  3/2/2019  1022.4900\n",
              "998  2/9/2019    33.4320\n",
              "999  2/22/2019   69.1110\n",
              "1000 2/18/2019  649.2990"
            ],
            "text/latex": "A data.frame: 6 × 2\n\\begin{tabular}{r|ll}\n  & Date & Sales\\\\\n  & <fct> & <dbl>\\\\\n\\hline\n\t995 & 2/18/2019 &   63.9975\\\\\n\t996 & 1/29/2019 &   42.3675\\\\\n\t997 & 3/2/2019  & 1022.4900\\\\\n\t998 & 2/9/2019  &   33.4320\\\\\n\t999 & 2/22/2019 &   69.1110\\\\\n\t1000 & 2/18/2019 &  649.2990\\\\\n\\end{tabular}\n",
            "text/markdown": "\nA data.frame: 6 × 2\n\n| <!--/--> | Date &lt;fct&gt; | Sales &lt;dbl&gt; |\n|---|---|---|\n| 995 | 2/18/2019 |   63.9975 |\n| 996 | 1/29/2019 |   42.3675 |\n| 997 | 3/2/2019  | 1022.4900 |\n| 998 | 2/9/2019  |   33.4320 |\n| 999 | 2/22/2019 |   69.1110 |\n| 1000 | 2/18/2019 |  649.2990 |\n\n",
            "text/html": [
              "<table>\n",
              "<caption>A data.frame: 6 × 2</caption>\n",
              "<thead>\n",
              "\t<tr><th></th><th scope=col>Date</th><th scope=col>Sales</th></tr>\n",
              "\t<tr><th></th><th scope=col>&lt;fct&gt;</th><th scope=col>&lt;dbl&gt;</th></tr>\n",
              "</thead>\n",
              "<tbody>\n",
              "\t<tr><th scope=row>995</th><td>2/18/2019</td><td>  63.9975</td></tr>\n",
              "\t<tr><th scope=row>996</th><td>1/29/2019</td><td>  42.3675</td></tr>\n",
              "\t<tr><th scope=row>997</th><td>3/2/2019 </td><td>1022.4900</td></tr>\n",
              "\t<tr><th scope=row>998</th><td>2/9/2019 </td><td>  33.4320</td></tr>\n",
              "\t<tr><th scope=row>999</th><td>2/22/2019</td><td>  69.1110</td></tr>\n",
              "\t<tr><th scope=row>1000</th><td>2/18/2019</td><td> 649.2990</td></tr>\n",
              "</tbody>\n",
              "</table>\n"
            ]
          },
          "metadata": {
            "tags": []
          }
        }
      ]
    },
    {
      "cell_type": "markdown",
      "metadata": {
        "id": "Owl_XXhQV8oX",
        "colab_type": "text"
      },
      "source": [
        "##Initial Exploration"
      ]
    },
    {
      "cell_type": "code",
      "metadata": {
        "id": "b3S5po4ZV6Fo",
        "colab_type": "code",
        "colab": {
          "base_uri": "https://localhost:8080/",
          "height": 34
        },
        "outputId": "e8d6a63a-6e67-498d-8c70-2f447a967d67"
      },
      "source": [
        "#checking our dataset dimension.\n",
        "dim(data)"
      ],
      "execution_count": null,
      "outputs": [
        {
          "output_type": "display_data",
          "data": {
            "text/plain": [
              "[1] 1000    2"
            ],
            "text/latex": "\\begin{enumerate*}\n\\item 1000\n\\item 2\n\\end{enumerate*}\n",
            "text/markdown": "1. 1000\n2. 2\n\n\n",
            "text/html": [
              "<style>\n",
              ".list-inline {list-style: none; margin:0; padding: 0}\n",
              ".list-inline>li {display: inline-block}\n",
              ".list-inline>li:not(:last-child)::after {content: \"\\00b7\"; padding: 0 .5ex}\n",
              "</style>\n",
              "<ol class=list-inline><li>1000</li><li>2</li></ol>\n"
            ]
          },
          "metadata": {
            "tags": []
          }
        }
      ]
    },
    {
      "cell_type": "markdown",
      "metadata": {
        "id": "Z1avoBJY7etH",
        "colab_type": "text"
      },
      "source": [
        "We have 1000 rows and 2 columns."
      ]
    },
    {
      "cell_type": "code",
      "metadata": {
        "id": "OZPYGGfDWAsg",
        "colab_type": "code",
        "colab": {
          "base_uri": "https://localhost:8080/",
          "height": 68
        },
        "outputId": "41ddf0a6-a420-444b-d46e-b754bdac2890"
      },
      "source": [
        "#checking our dataset structure.\n",
        "str(data)"
      ],
      "execution_count": null,
      "outputs": [
        {
          "output_type": "stream",
          "text": [
            "'data.frame':\t1000 obs. of  2 variables:\n",
            " $ Date : Factor w/ 89 levels \"1/1/2019\",\"1/10/2019\",..: 27 88 82 20 58 77 49 48 2 44 ...\n",
            " $ Sales: num  549 80.2 340.5 489 634.4 ...\n"
          ],
          "name": "stdout"
        }
      ]
    },
    {
      "cell_type": "code",
      "metadata": {
        "id": "wBquwweIWM_3",
        "colab_type": "code",
        "colab": {
          "base_uri": "https://localhost:8080/",
          "height": 153
        },
        "outputId": "aa76bee5-126f-47ad-861a-eef0eed82c09"
      },
      "source": [
        "#check the summary of our dataset\n",
        "summary(data)"
      ],
      "execution_count": null,
      "outputs": [
        {
          "output_type": "display_data",
          "data": {
            "text/plain": [
              "        Date         Sales        \n",
              " 2/7/2019 : 20   Min.   :  10.68  \n",
              " 2/15/2019: 19   1st Qu.: 124.42  \n",
              " 1/8/2019 : 18   Median : 253.85  \n",
              " 3/14/2019: 18   Mean   : 322.97  \n",
              " 3/2/2019 : 18   3rd Qu.: 471.35  \n",
              " 1/23/2019: 17   Max.   :1042.65  \n",
              " (Other)  :890                    "
            ]
          },
          "metadata": {
            "tags": []
          }
        }
      ]
    },
    {
      "cell_type": "code",
      "metadata": {
        "id": "VkVKH4OT0i3g",
        "colab_type": "code",
        "colab": {
          "base_uri": "https://localhost:8080/",
          "height": 34
        },
        "outputId": "61b6970a-a6f0-448b-92b4-774c4950b7be"
      },
      "source": [
        "#checking the class of our columns.\n",
        "sapply(data,class)"
      ],
      "execution_count": null,
      "outputs": [
        {
          "output_type": "display_data",
          "data": {
            "text/plain": [
              "     Date     Sales \n",
              " \"factor\" \"numeric\" "
            ],
            "text/latex": "\\begin{description*}\n\\item[Date] 'factor'\n\\item[Sales] 'numeric'\n\\end{description*}\n",
            "text/markdown": "Date\n:   'factor'Sales\n:   'numeric'\n\n",
            "text/html": [
              "<style>\n",
              ".dl-inline {width: auto; margin:0; padding: 0}\n",
              ".dl-inline>dt, .dl-inline>dd {float: none; width: auto; display: inline-block}\n",
              ".dl-inline>dt::after {content: \":\\0020\"; padding-right: .5ex}\n",
              ".dl-inline>dt:not(:first-of-type) {padding-left: .5ex}\n",
              "</style><dl class=dl-inline><dt>Date</dt><dd>'factor'</dd><dt>Sales</dt><dd>'numeric'</dd></dl>\n"
            ]
          },
          "metadata": {
            "tags": []
          }
        }
      ]
    },
    {
      "cell_type": "markdown",
      "metadata": {
        "id": "V2nBtD9A0wuH",
        "colab_type": "text"
      },
      "source": [
        "We will change the date data type to date."
      ]
    },
    {
      "cell_type": "markdown",
      "metadata": {
        "id": "28RE8iQGWaEf",
        "colab_type": "text"
      },
      "source": [
        "##DATA CLEANING"
      ]
    },
    {
      "cell_type": "code",
      "metadata": {
        "id": "SQDLb-HlWX8V",
        "colab_type": "code",
        "colab": {
          "base_uri": "https://localhost:8080/",
          "height": 34
        },
        "outputId": "5745f2eb-35e4-4adc-dbc5-62bf7054c6cd"
      },
      "source": [
        "#we check for null values.\n",
        "anyNA(data)"
      ],
      "execution_count": null,
      "outputs": [
        {
          "output_type": "display_data",
          "data": {
            "text/plain": [
              "[1] FALSE"
            ],
            "text/latex": "FALSE",
            "text/markdown": "FALSE",
            "text/html": [
              "FALSE"
            ]
          },
          "metadata": {
            "tags": []
          }
        }
      ]
    },
    {
      "cell_type": "markdown",
      "metadata": {
        "id": "BICe6DD2Wpft",
        "colab_type": "text"
      },
      "source": [
        "We have no null values"
      ]
    },
    {
      "cell_type": "code",
      "metadata": {
        "id": "FShayoW6WesW",
        "colab_type": "code",
        "colab": {
          "base_uri": "https://localhost:8080/",
          "height": 34
        },
        "outputId": "2477cc4b-b631-41e8-d888-9597e6ffb541"
      },
      "source": [
        "#we check for duplicates\n",
        "anyDuplicated(data)"
      ],
      "execution_count": null,
      "outputs": [
        {
          "output_type": "display_data",
          "data": {
            "text/plain": [
              "[1] 0"
            ],
            "text/latex": "0",
            "text/markdown": "0",
            "text/html": [
              "0"
            ]
          },
          "metadata": {
            "tags": []
          }
        }
      ]
    },
    {
      "cell_type": "markdown",
      "metadata": {
        "id": "mFaHNQmaWsOG",
        "colab_type": "text"
      },
      "source": [
        "We got no duplicates in the dataset."
      ]
    },
    {
      "cell_type": "code",
      "metadata": {
        "id": "cOJlTC2f1zZF",
        "colab_type": "code",
        "colab": {
          "base_uri": "https://localhost:8080/",
          "height": 34
        },
        "outputId": "de07f80b-36ce-4490-a20b-c409bca3a528"
      },
      "source": [
        "#changing the data type\n",
        "data$Date<-as.Date(data$Date)\n",
        "#Check the data type\n",
        "sapply(data,class)"
      ],
      "execution_count": 2,
      "outputs": [
        {
          "output_type": "display_data",
          "data": {
            "text/plain": [
              "     Date     Sales \n",
              "   \"Date\" \"numeric\" "
            ],
            "text/latex": "\\begin{description*}\n\\item[Date] 'Date'\n\\item[Sales] 'numeric'\n\\end{description*}\n",
            "text/markdown": "Date\n:   'Date'Sales\n:   'numeric'\n\n",
            "text/html": [
              "<style>\n",
              ".dl-inline {width: auto; margin:0; padding: 0}\n",
              ".dl-inline>dt, .dl-inline>dd {float: none; width: auto; display: inline-block}\n",
              ".dl-inline>dt::after {content: \":\\0020\"; padding-right: .5ex}\n",
              ".dl-inline>dt:not(:first-of-type) {padding-left: .5ex}\n",
              "</style><dl class=dl-inline><dt>Date</dt><dd>'Date'</dd><dt>Sales</dt><dd>'numeric'</dd></dl>\n"
            ]
          },
          "metadata": {
            "tags": []
          }
        }
      ]
    },
    {
      "cell_type": "markdown",
      "metadata": {
        "id": "BN24LalDW6qM",
        "colab_type": "text"
      },
      "source": [
        "ANOMALY DETECTION"
      ]
    },
    {
      "cell_type": "code",
      "metadata": {
        "id": "x608Ji9rWoDW",
        "colab_type": "code",
        "colab": {
          "base_uri": "https://localhost:8080/",
          "height": 139
        },
        "outputId": "157393b4-8e22-4f66-e706-a08cb64dafb7"
      },
      "source": [
        "# Installing anomalize package\n",
        "install.packages(\"anomalize\")"
      ],
      "execution_count": 3,
      "outputs": [
        {
          "output_type": "stream",
          "text": [
            "Installing package into ‘/usr/local/lib/R/site-library’\n",
            "(as ‘lib’ is unspecified)\n",
            "\n",
            "also installing the dependencies ‘numDeriv’, ‘SQUAREM’, ‘lava’, ‘listenv’, ‘TTR’, ‘prodlim’, ‘future’, ‘globals’, ‘quadprog’, ‘quantmod’, ‘gower’, ‘ipred’, ‘furrr’, ‘hexbin’, ‘data.table’, ‘warp’, ‘fracdiff’, ‘lmtest’, ‘tseries’, ‘urca’, ‘RcppArmadillo’, ‘recipes’, ‘rsample’, ‘plotly’, ‘padr’, ‘xts’, ‘zoo’, ‘slider’, ‘anytime’, ‘timeDate’, ‘forecast’, ‘timetk’, ‘sweep’, ‘tibbletime’\n",
            "\n",
            "\n"
          ],
          "name": "stderr"
        }
      ]
    },
    {
      "cell_type": "code",
      "metadata": {
        "id": "a31RI4tCW97D",
        "colab_type": "code",
        "colab": {
          "base_uri": "https://localhost:8080/",
          "height": 272
        },
        "outputId": "4a719d95-4586-4b24-e9c2-d3b3655d44ac"
      },
      "source": [
        "# Load tidyverse and anomalize\n",
        "library(tidyverse)\n",
        "library(anomalize)"
      ],
      "execution_count": 4,
      "outputs": [
        {
          "output_type": "stream",
          "text": [
            "── \u001b[1mAttaching packages\u001b[22m ─────────────────────────────────────── tidyverse 1.3.0 ──\n",
            "\n",
            "\u001b[32m✔\u001b[39m \u001b[34mggplot2\u001b[39m 3.3.2     \u001b[32m✔\u001b[39m \u001b[34mpurrr  \u001b[39m 0.3.4\n",
            "\u001b[32m✔\u001b[39m \u001b[34mtibble \u001b[39m 3.0.3     \u001b[32m✔\u001b[39m \u001b[34mdplyr  \u001b[39m 1.0.2\n",
            "\u001b[32m✔\u001b[39m \u001b[34mtidyr  \u001b[39m 1.1.2     \u001b[32m✔\u001b[39m \u001b[34mstringr\u001b[39m 1.4.0\n",
            "\u001b[32m✔\u001b[39m \u001b[34mreadr  \u001b[39m 1.3.1     \u001b[32m✔\u001b[39m \u001b[34mforcats\u001b[39m 0.5.0\n",
            "\n",
            "── \u001b[1mConflicts\u001b[22m ────────────────────────────────────────── tidyverse_conflicts() ──\n",
            "\u001b[31m✖\u001b[39m \u001b[34mdplyr\u001b[39m::\u001b[32mfilter()\u001b[39m masks \u001b[34mstats\u001b[39m::filter()\n",
            "\u001b[31m✖\u001b[39m \u001b[34mdplyr\u001b[39m::\u001b[32mlag()\u001b[39m    masks \u001b[34mstats\u001b[39m::lag()\n",
            "\n",
            "\u001b[30m══\u001b[39m \u001b[30mUse anomalize to improve your Forecasts by 50%!\u001b[39m \u001b[30m═════════════════════════════\u001b[39m\u001b[34m\n",
            "Business Science offers a 1-hour course - Lab #18: Time Series Anomaly Detection!\n",
            "\u001b[39m\u001b[34m</> Learn more at: https://university.business-science.io/p/learning-labs-pro </>\u001b[39m\n",
            "\n"
          ],
          "name": "stderr"
        }
      ]
    },
    {
      "cell_type": "code",
      "metadata": {
        "id": "4zyJTpvfBpaw",
        "colab_type": "code",
        "colab": {}
      },
      "source": [
        "suppressWarnings(\n",
        "        suppressMessages(if\n",
        "                         (!require(dplyr, quietly=TRUE))\n",
        "                install.packages(\"dplyr\")))\n",
        "library(dplyr)"
      ],
      "execution_count": 5,
      "outputs": []
    },
    {
      "cell_type": "code",
      "metadata": {
        "id": "1RdwyQTS_yXM",
        "colab_type": "code",
        "colab": {}
      },
      "source": [
        "suppressWarnings(\n",
        "        suppressMessages(if\n",
        "                         (!require(tibble, quietly=TRUE))\n",
        "                install.packages(\"tibble\")))\n",
        "library(tibble)"
      ],
      "execution_count": 6,
      "outputs": []
    },
    {
      "cell_type": "code",
      "metadata": {
        "id": "EbZJcsAp-CKw",
        "colab_type": "code",
        "colab": {}
      },
      "source": [
        "suppressWarnings(\n",
        "        suppressMessages(if\n",
        "                         (!require(tibbletime, quietly=TRUE))\n",
        "                install.packages(\"tibbletime\")))\n",
        "library(tibbletime)"
      ],
      "execution_count": 7,
      "outputs": []
    },
    {
      "cell_type": "code",
      "metadata": {
        "id": "HzZKdpxnbtqs",
        "colab_type": "code",
        "colab": {
          "base_uri": "https://localhost:8080/",
          "height": 204
        },
        "outputId": "74304840-1d79-4d94-f5b5-eb792ec2e0d6"
      },
      "source": [
        "#For Anomaly Detection using anomalize, we need to have either a tibble or tibbletime object.\n",
        "# Hence we have to convert the dataframe data into a tibble object that follows a time series shape\n",
        "# and store it in data_tb\n",
        "data_tb<-as_tibble(data)\n",
        "head(data_tb)"
      ],
      "execution_count": 8,
      "outputs": [
        {
          "output_type": "display_data",
          "data": {
            "text/plain": [
              "  Date    Sales   \n",
              "1 1-05-20 548.9715\n",
              "2 3-08-20  80.2200\n",
              "3 3-03-20 340.5255\n",
              "4 <NA>    489.0480\n",
              "5 2-08-20 634.3785\n",
              "6 <NA>    627.6165"
            ],
            "text/latex": "A tibble: 6 × 2\n\\begin{tabular}{ll}\n Date & Sales\\\\\n <date> & <dbl>\\\\\n\\hline\n\t 1-05-20 & 548.9715\\\\\n\t 3-08-20 &  80.2200\\\\\n\t 3-03-20 & 340.5255\\\\\n\t NA & 489.0480\\\\\n\t 2-08-20 & 634.3785\\\\\n\t NA & 627.6165\\\\\n\\end{tabular}\n",
            "text/markdown": "\nA tibble: 6 × 2\n\n| Date &lt;date&gt; | Sales &lt;dbl&gt; |\n|---|---|\n| 1-05-20 | 548.9715 |\n| 3-08-20 |  80.2200 |\n| 3-03-20 | 340.5255 |\n| NA | 489.0480 |\n| 2-08-20 | 634.3785 |\n| NA | 627.6165 |\n\n",
            "text/html": [
              "<table>\n",
              "<caption>A tibble: 6 × 2</caption>\n",
              "<thead>\n",
              "\t<tr><th scope=col>Date</th><th scope=col>Sales</th></tr>\n",
              "\t<tr><th scope=col>&lt;date&gt;</th><th scope=col>&lt;dbl&gt;</th></tr>\n",
              "</thead>\n",
              "<tbody>\n",
              "\t<tr><td>1-05-20</td><td>548.9715</td></tr>\n",
              "\t<tr><td>3-08-20</td><td> 80.2200</td></tr>\n",
              "\t<tr><td>3-03-20</td><td>340.5255</td></tr>\n",
              "\t<tr><td>NA</td><td>489.0480</td></tr>\n",
              "\t<tr><td>2-08-20</td><td>634.3785</td></tr>\n",
              "\t<tr><td>NA</td><td>627.6165</td></tr>\n",
              "</tbody>\n",
              "</table>\n"
            ]
          },
          "metadata": {
            "tags": []
          }
        }
      ]
    },
    {
      "cell_type": "code",
      "metadata": {
        "id": "mfg1VmuU6PY5",
        "colab_type": "code",
        "colab": {}
      },
      "source": [
        "data_tb<-data_tb %>%\n",
        "                   tibbletime::as_tbl_time(index=Date)"
      ],
      "execution_count": 9,
      "outputs": []
    },
    {
      "cell_type": "code",
      "metadata": {
        "id": "RsXqGlACZyHV",
        "colab_type": "code",
        "colab": {
          "base_uri": "https://localhost:8080/",
          "height": 945
        },
        "outputId": "1a93b269-f131-4f03-f8f4-f9ea17df067c"
      },
      "source": [
        "#anomalize has got a function time_decompose() for time series decomposition, decomposes into seasonal,Trend \n",
        "#and remainder function. \n",
        "#Once the components are decomposed, anomalize can detect and flag anomalies in the decomposed \n",
        "#data of the reminder component which then could be visualized with plot_anomaly_decomposition() .\n",
        "data_tb %>%\n",
        "\n",
        " time_decompose(Sales, method = \"stl\", frequency = \"auto\", trend = \"auto\") %>%\n",
        " anomalize(remainder, method = \"gesd\", alpha = 0.05, max_anoms = 0.2) %>%\n",
        " plot_anomaly_decomposition() \n",
        "\n",
        "\n",
        "\n"
      ],
      "execution_count": 10,
      "outputs": [
        {
          "output_type": "error",
          "ename": "ERROR",
          "evalue": "ignored",
          "traceback": [
            "Error: `nm` must be `NULL` or a character vector the same length as `x`\nTraceback:\n",
            "1. data_tb %>% time_decompose(Sales, method = \"stl\", frequency = \"auto\", \n .     trend = \"auto\") %>% anomalize(remainder, method = \"gesd\", \n .     alpha = 0.05, max_anoms = 0.2) %>% plot_anomaly_decomposition()",
            "2. withVisible(eval(quote(`_fseq`(`_lhs`)), env, env))",
            "3. eval(quote(`_fseq`(`_lhs`)), env, env)",
            "4. eval(quote(`_fseq`(`_lhs`)), env, env)",
            "5. `_fseq`(`_lhs`)",
            "6. freduce(value, `_function_list`)",
            "7. function_list[[i]](value)",
            "8. time_decompose(., Sales, method = \"stl\", frequency = \"auto\", \n .     trend = \"auto\")",
            "9. time_decompose.tbl_time(., Sales, method = \"stl\", frequency = \"auto\", \n .     trend = \"auto\")",
            "10. data %>% decompose_stl(!!target_expr, frequency = frequency, \n  .     trend = trend, message = message, ...)",
            "11. withVisible(eval(quote(`_fseq`(`_lhs`)), env, env))",
            "12. eval(quote(`_fseq`(`_lhs`)), env, env)",
            "13. eval(quote(`_fseq`(`_lhs`)), env, env)",
            "14. `_fseq`(`_lhs`)",
            "15. freduce(value, `_function_list`)",
            "16. withVisible(function_list[[k]](value))",
            "17. function_list[[k]](value)",
            "18. decompose_stl(., !!target_expr, frequency = frequency, trend = trend, \n  .     message = message, ...)",
            "19. time_frequency(data, period = frequency, message = message)",
            "20. data %>% tibbletime::get_index_col() %>% timetk::tk_get_timeseries_summary()",
            "21. withVisible(eval(quote(`_fseq`(`_lhs`)), env, env))",
            "22. eval(quote(`_fseq`(`_lhs`)), env, env)",
            "23. eval(quote(`_fseq`(`_lhs`)), env, env)",
            "24. `_fseq`(`_lhs`)",
            "25. freduce(value, `_function_list`)",
            "26. withVisible(function_list[[k]](value))",
            "27. function_list[[k]](value)",
            "28. timetk::tk_get_timeseries_summary(.)",
            "29. tk_get_timeseries_summary.Date(.)",
            "30. get_timeseries_summary_date(idx)",
            "31. idx_diff %>% summary() %>% as.list() %>% purrr::set_names(c(\"diff.minimum\", \n  .     \"diff.q1\", \"diff.median\", \"diff.mean\", \"diff.q3\", \"diff.maximum\")) %>% \n  .     purrr::map_df(~.x)",
            "32. withVisible(eval(quote(`_fseq`(`_lhs`)), env, env))",
            "33. eval(quote(`_fseq`(`_lhs`)), env, env)",
            "34. eval(quote(`_fseq`(`_lhs`)), env, env)",
            "35. `_fseq`(`_lhs`)",
            "36. freduce(value, `_function_list`)",
            "37. function_list[[i]](value)",
            "38. purrr::set_names(., c(\"diff.minimum\", \"diff.q1\", \"diff.median\", \n  .     \"diff.mean\", \"diff.q3\", \"diff.maximum\"))",
            "39. rlang::abort(x)",
            "40. signal_abort(cnd)"
          ]
        }
      ]
    },
    {
      "cell_type": "code",
      "metadata": {
        "id": "tl8AdKhGbe6X",
        "colab_type": "code",
        "colab": {
          "base_uri": "https://localhost:8080/",
          "height": 911
        },
        "outputId": "6ad61e58-89d2-4697-df7b-490e8dc73df1"
      },
      "source": [
        "#decomposition , anomaly detection and plotting them\n",
        "data_tb %>% \n",
        "  time_decompose(Sales) %>%\n",
        "  anomalize(remainder) %>%\n",
        "  time_recompose() %>%\n",
        "  plot_anomalies(time_recomposed = TRUE, ncol = 3, alpha_dots = 0.5)"
      ],
      "execution_count": 11,
      "outputs": [
        {
          "output_type": "error",
          "ename": "ERROR",
          "evalue": "ignored",
          "traceback": [
            "Error: `nm` must be `NULL` or a character vector the same length as `x`\nTraceback:\n",
            "1. data_tb %>% time_decompose(Sales) %>% anomalize(remainder) %>% \n .     time_recompose() %>% plot_anomalies(time_recomposed = TRUE, \n .     ncol = 3, alpha_dots = 0.5)",
            "2. withVisible(eval(quote(`_fseq`(`_lhs`)), env, env))",
            "3. eval(quote(`_fseq`(`_lhs`)), env, env)",
            "4. eval(quote(`_fseq`(`_lhs`)), env, env)",
            "5. `_fseq`(`_lhs`)",
            "6. freduce(value, `_function_list`)",
            "7. function_list[[i]](value)",
            "8. time_decompose(., Sales)",
            "9. time_decompose.tbl_time(., Sales)",
            "10. data %>% decompose_stl(!!target_expr, frequency = frequency, \n  .     trend = trend, message = message, ...)",
            "11. withVisible(eval(quote(`_fseq`(`_lhs`)), env, env))",
            "12. eval(quote(`_fseq`(`_lhs`)), env, env)",
            "13. eval(quote(`_fseq`(`_lhs`)), env, env)",
            "14. `_fseq`(`_lhs`)",
            "15. freduce(value, `_function_list`)",
            "16. withVisible(function_list[[k]](value))",
            "17. function_list[[k]](value)",
            "18. decompose_stl(., !!target_expr, frequency = frequency, trend = trend, \n  .     message = message, ...)",
            "19. time_frequency(data, period = frequency, message = message)",
            "20. data %>% tibbletime::get_index_col() %>% timetk::tk_get_timeseries_summary()",
            "21. withVisible(eval(quote(`_fseq`(`_lhs`)), env, env))",
            "22. eval(quote(`_fseq`(`_lhs`)), env, env)",
            "23. eval(quote(`_fseq`(`_lhs`)), env, env)",
            "24. `_fseq`(`_lhs`)",
            "25. freduce(value, `_function_list`)",
            "26. withVisible(function_list[[k]](value))",
            "27. function_list[[k]](value)",
            "28. timetk::tk_get_timeseries_summary(.)",
            "29. tk_get_timeseries_summary.Date(.)",
            "30. get_timeseries_summary_date(idx)",
            "31. idx_diff %>% summary() %>% as.list() %>% purrr::set_names(c(\"diff.minimum\", \n  .     \"diff.q1\", \"diff.median\", \"diff.mean\", \"diff.q3\", \"diff.maximum\")) %>% \n  .     purrr::map_df(~.x)",
            "32. withVisible(eval(quote(`_fseq`(`_lhs`)), env, env))",
            "33. eval(quote(`_fseq`(`_lhs`)), env, env)",
            "34. eval(quote(`_fseq`(`_lhs`)), env, env)",
            "35. `_fseq`(`_lhs`)",
            "36. freduce(value, `_function_list`)",
            "37. function_list[[i]](value)",
            "38. purrr::set_names(., c(\"diff.minimum\", \"diff.q1\", \"diff.median\", \n  .     \"diff.mean\", \"diff.q3\", \"diff.maximum\"))",
            "39. rlang::abort(x)",
            "40. signal_abort(cnd)"
          ]
        }
      ]
    },
    {
      "cell_type": "code",
      "metadata": {
        "id": "E8sjR4weKCX2",
        "colab_type": "code",
        "colab": {
          "base_uri": "https://localhost:8080/",
          "height": 894
        },
        "outputId": "0dad1768-d6c0-4bf7-c247-e762d3cbb197"
      },
      "source": [
        "#Extracting the actual data points\n",
        "data_tb %>% \n",
        "  time_decompose(Sales) %>%\n",
        "  anomalize(remainder) %>%\n",
        "  time_recompose() %>%\n",
        "  filter(anomaly == 'Yes') "
      ],
      "execution_count": 12,
      "outputs": [
        {
          "output_type": "error",
          "ename": "ERROR",
          "evalue": "ignored",
          "traceback": [
            "Error: `nm` must be `NULL` or a character vector the same length as `x`\nTraceback:\n",
            "1. data_tb %>% time_decompose(Sales) %>% anomalize(remainder) %>% \n .     time_recompose() %>% filter(anomaly == \"Yes\")",
            "2. withVisible(eval(quote(`_fseq`(`_lhs`)), env, env))",
            "3. eval(quote(`_fseq`(`_lhs`)), env, env)",
            "4. eval(quote(`_fseq`(`_lhs`)), env, env)",
            "5. `_fseq`(`_lhs`)",
            "6. freduce(value, `_function_list`)",
            "7. function_list[[i]](value)",
            "8. time_decompose(., Sales)",
            "9. time_decompose.tbl_time(., Sales)",
            "10. data %>% decompose_stl(!!target_expr, frequency = frequency, \n  .     trend = trend, message = message, ...)",
            "11. withVisible(eval(quote(`_fseq`(`_lhs`)), env, env))",
            "12. eval(quote(`_fseq`(`_lhs`)), env, env)",
            "13. eval(quote(`_fseq`(`_lhs`)), env, env)",
            "14. `_fseq`(`_lhs`)",
            "15. freduce(value, `_function_list`)",
            "16. withVisible(function_list[[k]](value))",
            "17. function_list[[k]](value)",
            "18. decompose_stl(., !!target_expr, frequency = frequency, trend = trend, \n  .     message = message, ...)",
            "19. time_frequency(data, period = frequency, message = message)",
            "20. data %>% tibbletime::get_index_col() %>% timetk::tk_get_timeseries_summary()",
            "21. withVisible(eval(quote(`_fseq`(`_lhs`)), env, env))",
            "22. eval(quote(`_fseq`(`_lhs`)), env, env)",
            "23. eval(quote(`_fseq`(`_lhs`)), env, env)",
            "24. `_fseq`(`_lhs`)",
            "25. freduce(value, `_function_list`)",
            "26. withVisible(function_list[[k]](value))",
            "27. function_list[[k]](value)",
            "28. timetk::tk_get_timeseries_summary(.)",
            "29. tk_get_timeseries_summary.Date(.)",
            "30. get_timeseries_summary_date(idx)",
            "31. idx_diff %>% summary() %>% as.list() %>% purrr::set_names(c(\"diff.minimum\", \n  .     \"diff.q1\", \"diff.median\", \"diff.mean\", \"diff.q3\", \"diff.maximum\")) %>% \n  .     purrr::map_df(~.x)",
            "32. withVisible(eval(quote(`_fseq`(`_lhs`)), env, env))",
            "33. eval(quote(`_fseq`(`_lhs`)), env, env)",
            "34. eval(quote(`_fseq`(`_lhs`)), env, env)",
            "35. `_fseq`(`_lhs`)",
            "36. freduce(value, `_function_list`)",
            "37. function_list[[i]](value)",
            "38. purrr::set_names(., c(\"diff.minimum\", \"diff.q1\", \"diff.median\", \n  .     \"diff.mean\", \"diff.q3\", \"diff.maximum\"))",
            "39. rlang::abort(x)",
            "40. signal_abort(cnd)"
          ]
        }
      ]
    },
    {
      "cell_type": "code",
      "metadata": {
        "id": "utErGJyLDiHR",
        "colab_type": "code",
        "colab": {}
      },
      "source": [
        ""
      ],
      "execution_count": null,
      "outputs": []
    }
  ]
}